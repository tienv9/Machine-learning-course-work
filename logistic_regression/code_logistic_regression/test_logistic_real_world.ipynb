{
 "cells": [
  {
   "cell_type": "markdown",
   "id": "ad20f53c-6ac8-477a-9e4e-ff6dd98ecc24",
   "metadata": {},
   "source": [
    "# Testing the logistic regression using various real-world data sets.\n",
    "\n",
    "## Author: Bojian Xu, bojianxu@ewu.edu"
   ]
  },
  {
   "cell_type": "code",
   "execution_count": null,
   "id": "9459c47e-4bca-4f45-be65-136edbd88632",
   "metadata": {},
   "outputs": [],
   "source": [
    "import numpy as np\n",
    "import pandas as pd\n",
    "import matplotlib.pyplot as plt\n",
    "import logistic_regression as logic\n",
    "import sys\n",
    "sys.path.append('..')\n",
    "from code_misc.utils import MyUtils"
   ]
  },
  {
   "cell_type": "code",
   "execution_count": null,
   "id": "b86e4e9c-1bbe-4955-9b48-a71a2a4d8a81",
   "metadata": {},
   "outputs": [],
   "source": [
    "data_set = 'ionosphere'\n",
    "\n",
    "print(data_set+'/'+'hello')"
   ]
  },
  {
   "cell_type": "code",
   "execution_count": null,
   "id": "4b122b78-4cb1-4e42-a725-1427857ba84e",
   "metadata": {},
   "outputs": [],
   "source": [
    "# READ in data\n",
    "df_X_train = pd.read_csv(data_set+'/'+'X_train.csv', header=None)\n",
    "df_y_train = pd.read_csv(data_set+'/'+'y_train.csv', header=None)\n",
    "df_X_test = pd.read_csv(data_set+'/'+'X_test.csv', header=None)\n",
    "df_y_test = pd.read_csv(data_set+'/'+'y_test.csv', header=None)\n",
    "\n",
    "# save in numpy arrays\n",
    "X_train = df_X_train.to_numpy()\n",
    "y_train = df_y_train.to_numpy()\n",
    "X_test = df_X_test.to_numpy()\n",
    "y_test = df_y_test.to_numpy()\n",
    "\n",
    "# get training set size\n",
    "n_train = X_train.shape[0]\n",
    "\n",
    "# normalize all features to [0,1] or [-1,1]\n",
    "if data_set == 'ionosphere':\n",
    "    X_all = MyUtils.normalize_neg1_pos1(np.concatenate((X_train, X_test), axis=0))\n",
    "\n",
    "\n",
    "X_train = X_all[:n_train]\n",
    "X_test = X_all[n_train:]\n",
    "\n",
    "print(X_train.shape)\n",
    "print(y_train.shape)\n",
    "print(X_test.shape)\n",
    "print(y_test.shape)\n",
    "#print(y_test)"
   ]
  },
  {
   "cell_type": "code",
   "execution_count": null,
   "id": "b963de09-dd31-4382-8f97-4aceb4df56d6",
   "metadata": {},
   "outputs": [],
   "source": [
    "#print(y_train[-10:])"
   ]
  },
  {
   "cell_type": "code",
   "execution_count": null,
   "id": "ac8927c9-c95b-419c-8c66-a0bf831e5bd7",
   "metadata": {},
   "outputs": [],
   "source": [
    "# build the model\n",
    "log = logic.LogisticRegression()"
   ]
  },
  {
   "cell_type": "code",
   "execution_count": null,
   "id": "49faf0ea-5e92-4939-9549-871faf8c96f0",
   "metadata": {},
   "outputs": [],
   "source": [
    "# train the model\n",
    "log.fit(X_train, y_train, lam = 0, eta = 0.1, iterations = 50000, SGD = False, mini_batch_size = 20, degree = 3)\n",
    "#log.fit(X_train, y_train, lam = 0, eta = 0.1, iterations = 50000, SGD = True, mini_batch_size = 20, degree = 3)"
   ]
  },
  {
   "cell_type": "code",
   "execution_count": null,
   "id": "b8ecd81e-7afb-4465-933a-98d53465e419",
   "metadata": {},
   "outputs": [],
   "source": [
    "print('misclassfied percentage from training: ', log.error(X_train, y_train)/X_train.shape[0])\n",
    "print('misclassfied percentage from validation: ', log.error(X_test, y_test)/X_test.shape[0])"
   ]
  },
  {
   "cell_type": "code",
   "execution_count": null,
   "id": "caa662a0-5c7e-4399-be73-478fdec87dbd",
   "metadata": {},
   "outputs": [],
   "source": [
    "preds = log.predict(X_test)"
   ]
  },
  {
   "cell_type": "code",
   "execution_count": null,
   "id": "8a159f2c-5b6c-457a-a2fb-24878a34b4e0",
   "metadata": {},
   "outputs": [],
   "source": [
    "for i in range(y_test.shape[0]):\n",
    "    print('test sample ', i)\n",
    "    if np.sign(preds[i]-0.5) != y_test[i]:\n",
    "        print('misclassified!!')\n",
    "    print('predicted probablity of being +1 is: ', preds[i])\n",
    "    print('label is', y_test[i])\n",
    "    print('\\n')"
   ]
  }
 ],
 "metadata": {
  "kernelspec": {
   "display_name": "Python 3",
   "language": "python",
   "name": "python3"
  },
  "language_info": {
   "codemirror_mode": {
    "name": "ipython",
    "version": 3
   },
   "file_extension": ".py",
   "mimetype": "text/x-python",
   "name": "python",
   "nbconvert_exporter": "python",
   "pygments_lexer": "ipython3",
   "version": "3.8.8"
  }
 },
 "nbformat": 4,
 "nbformat_minor": 5
}
